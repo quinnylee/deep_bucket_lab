{
 "cells": [
  {
   "cell_type": "markdown",
   "metadata": {},
   "source": [
    "# 1. Test if point in conv"
   ]
  },
  {
   "cell_type": "code",
   "execution_count": 1,
   "metadata": {},
   "outputs": [],
   "source": [
    "import numpy as np"
   ]
  },
  {
   "cell_type": "code",
   "execution_count": 8,
   "metadata": {},
   "outputs": [
    {
     "name": "stdout",
     "output_type": "stream",
     "text": [
      "[[1. 4.]\n",
      " [2. 5.]\n",
      " [3. 6.]\n",
      " [1. 1.]]\n"
     ]
    }
   ],
   "source": [
    "p = np.array([[1, 2, 3], [4, 5, 6]])\n",
    "A = np.r_[p.T, np.ones((1, 2))]\n",
    "print(A)"
   ]
  },
  {
   "cell_type": "code",
   "execution_count": 10,
   "metadata": {},
   "outputs": [
    {
     "name": "stdout",
     "output_type": "stream",
     "text": [
      "[7. 8. 9. 1.]\n"
     ]
    }
   ],
   "source": [
    "x = [7, 8, 9]\n",
    "\n",
    "b = np.r_[x, np.ones(1)]\n",
    "print(b)"
   ]
  },
  {
   "cell_type": "markdown",
   "metadata": {},
   "source": [
    "# 2. Distance from ext pt to conv"
   ]
  },
  {
   "cell_type": "code",
   "execution_count": 26,
   "metadata": {},
   "outputs": [
    {
     "name": "stdout",
     "output_type": "stream",
     "text": [
      "QP solution: x = [ 1.92474566e-02  2.39046702e-04  9.80566398e-01 -3.53926040e-04]\n"
     ]
    },
    {
     "name": "stderr",
     "output_type": "stream",
     "text": [
      "c:\\Users\\quinn\\Anaconda3\\envs\\ssg-reu\\Lib\\site-packages\\qpsolvers\\conversions\\ensure_sparse_matrices.py:24: UserWarning: Converted P to scipy.sparse.csc.csc_matrix\n",
      "For best performance, build P as a scipy.sparse.csc_matrix rather than as a numpy.ndarray\n",
      "  warnings.warn(\n",
      "c:\\Users\\quinn\\Anaconda3\\envs\\ssg-reu\\Lib\\site-packages\\qpsolvers\\conversions\\ensure_sparse_matrices.py:24: UserWarning: Converted A to scipy.sparse.csc.csc_matrix\n",
      "For best performance, build A as a scipy.sparse.csc_matrix rather than as a numpy.ndarray\n",
      "  warnings.warn(\n"
     ]
    }
   ],
   "source": [
    "from numpy import array, dot, ones, zeros, linalg\n",
    "from qpsolvers import solve_qp\n",
    "\n",
    "X = array([[1., 2., 0.], [8., 3., 2.], [0., 1., 1.], [1., 2., 3.]]) # points in training set\n",
    "P = dot(X, X.T)  # quick way to build a symmetric matrix\n",
    "ext_pt = array([10., 20., 30.])\n",
    "q = dot(X, ext_pt.T).T # multiply ext pt with train polytope\n",
    "A = ones((1,len(X)))\n",
    "b = array([1.])\n",
    "lb = zeros((1,len(X)))\n",
    "x = solve_qp(P, q, A=A, b=b, lb=lb, solver=\"osqp\")\n",
    "print(f\"QP solution: x = {x}\")"
   ]
  },
  {
   "cell_type": "code",
   "execution_count": 28,
   "metadata": {},
   "outputs": [],
   "source": [
    "nearest_pt = dot(x, X)\n",
    "dist = linalg.norm((ext_pt - nearest_pt))"
   ]
  },
  {
   "cell_type": "code",
   "execution_count": 29,
   "metadata": {},
   "outputs": [
    {
     "name": "stdout",
     "output_type": "stream",
     "text": [
      "36.083533627573395\n"
     ]
    }
   ],
   "source": [
    "print(dist)"
   ]
  }
 ],
 "metadata": {
  "kernelspec": {
   "display_name": "ssg-reu",
   "language": "python",
   "name": "python3"
  },
  "language_info": {
   "codemirror_mode": {
    "name": "ipython",
    "version": 3
   },
   "file_extension": ".py",
   "mimetype": "text/x-python",
   "name": "python",
   "nbconvert_exporter": "python",
   "pygments_lexer": "ipython3",
   "version": "3.12.4"
  }
 },
 "nbformat": 4,
 "nbformat_minor": 2
}
